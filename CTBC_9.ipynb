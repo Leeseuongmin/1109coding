{
  "nbformat": 4,
  "nbformat_minor": 0,
  "metadata": {
    "colab": {
      "provenance": [],
      "authorship_tag": "ABX9TyMocV4t9b6LHYNrLk3E2rEb",
      "include_colab_link": true
    },
    "kernelspec": {
      "name": "python3",
      "display_name": "Python 3"
    },
    "language_info": {
      "name": "python"
    }
  },
  "cells": [
    {
      "cell_type": "markdown",
      "metadata": {
        "id": "view-in-github",
        "colab_type": "text"
      },
      "source": [
        "<a href=\"https://colab.research.google.com/github/Leeseuongmin/1109coding/blob/main/CTBC_9.ipynb\" target=\"_parent\"><img src=\"https://colab.research.google.com/assets/colab-badge.svg\" alt=\"Open In Colab\"/></a>"
      ]
    },
    {
      "cell_type": "markdown",
      "source": [
        "1. 두가지 이상의 선택, 다방향 선택 구조 코딩\n",
        " - 배송료 처리 3가지로 코딩\n",
        " - 변수: price\n",
        " - 조건: 10만원 이상 배송비 0, 2만원 이상은 3천원, 2만원 이하는 5천원"
      ],
      "metadata": {
        "id": "XopWctvArVi4"
      }
    },
    {
      "cell_type": "code",
      "source": [
        "price = int(input(\"구입금액 입력: \"))         # 변수 price 사용자가 정수형 금액입력\n",
        "if price >= 100000:                           # price의 값이 10만원보다 크거나 같으면\n",
        "  shipping_cost = 0                           # 선택1. 배송료(shipping_cost)는 0원\n",
        "else:                                         # 그게 아니면\n",
        "  if price >= 20000:                          # 선택2. price값이 2만원보다 크거나 같으면\n",
        "    shipping_cost = 3000                      # 배송료(shipping_cost)는 3000원\n",
        "  else:                                       # 그것도 아니면\n",
        "    shipping_cost = 5000                      # 선택3. 배송료(shipping_cost)는 5000원\n",
        "print(f'배송료는 {shipping_cost}원 입니다.')  # F-String문자 Format으로 최종 배송료출력"
      ],
      "metadata": {
        "id": "fdwISIFz8zYM"
      },
      "execution_count": null,
      "outputs": []
    },
    {
      "cell_type": "markdown",
      "source": [
        "2. 반복구조를 이용한 \"환영합니다.\"를 5번 출력하는 코드작성\n",
        " - 변수 : Welcome\n",
        " - 출력내용 : 환영합니다.를 세로로 5번, 10번, 30번"
      ],
      "metadata": {
        "id": "COnGC5XO1Rqz"
      }
    },
    {
      "cell_type": "code",
      "source": [
        "print(\"환영합니다\")\n",
        "print(\"환영합니다\")\n",
        "print(\"환영합니다\")\n",
        "print(\"환영합니다\")\n",
        "print(\"환영합니다\")"
      ],
      "metadata": {
        "colab": {
          "base_uri": "https://localhost:8080/"
        },
        "id": "NatmOG5U1UUO",
        "outputId": "15e5551c-91f2-449f-a766-d8df58394e3f"
      },
      "execution_count": null,
      "outputs": [
        {
          "output_type": "stream",
          "name": "stdout",
          "text": [
            "환영합니다\n",
            "환영합니다\n",
            "환영합니다\n",
            "환영합니다\n",
            "환영합니다\n"
          ]
        }
      ]
    },
    {
      "cell_type": "code",
      "source": [
        "print(\"환영합니다.\\n\" * 5)"
      ],
      "metadata": {
        "colab": {
          "base_uri": "https://localhost:8080/"
        },
        "id": "PgQEe1Dg8-_5",
        "outputId": "6b381ffd-50ef-48a2-cacc-08945269fd48"
      },
      "execution_count": null,
      "outputs": [
        {
          "output_type": "stream",
          "name": "stdout",
          "text": [
            "환영합니다.\n",
            "환영합니다.\n",
            "환영합니다.\n",
            "환영합니다.\n",
            "환영합니다.\n",
            "\n"
          ]
        }
      ]
    },
    {
      "cell_type": "code",
      "source": [
        "count = 1\n",
        "while count <= 5:\n",
        "  print(\"(\", count, \")\", \"환영합니다.\")\n",
        "  count = count + 1"
      ],
      "metadata": {
        "colab": {
          "base_uri": "https://localhost:8080/"
        },
        "id": "hFTwx89C1YID",
        "outputId": "f9c4eb9b-1f7f-4c48-c19f-3c22cf253fe9"
      },
      "execution_count": null,
      "outputs": [
        {
          "output_type": "stream",
          "name": "stdout",
          "text": [
            "( 1 ) 환영합니다.\n",
            "( 2 ) 환영합니다.\n",
            "( 3 ) 환영합니다.\n",
            "( 4 ) 환영합니다.\n",
            "( 5 ) 환영합니다.\n"
          ]
        }
      ]
    },
    {
      "cell_type": "markdown",
      "source": [
        "3. 0부터 9까지 출력하는 코드작성\n",
        " - 변수 X"
      ],
      "metadata": {
        "id": "v16jMnEL1muK"
      }
    },
    {
      "cell_type": "code",
      "source": [
        "x = 0\n",
        "while x < 10:\n",
        "  #print(x)\n",
        "  print(x, end=' ')\n",
        "  x = x + 1"
      ],
      "metadata": {
        "colab": {
          "base_uri": "https://localhost:8080/"
        },
        "id": "pAeg_FuD1wN7",
        "outputId": "b94e3858-6c72-45f6-a751-ec39510360f9"
      },
      "execution_count": null,
      "outputs": [
        {
          "output_type": "stream",
          "name": "stdout",
          "text": [
            "0 1 2 3 4 5 6 7 8 9 "
          ]
        }
      ]
    },
    {
      "cell_type": "code",
      "source": [
        "x = 0\n",
        "while x <= 9:\n",
        "  print(x, end=' ')\n",
        "  x += 1"
      ],
      "metadata": {
        "id": "moJFfAhl90aZ",
        "outputId": "b4632dbf-9d1b-486b-b551-79f9fbc3b792",
        "colab": {
          "base_uri": "https://localhost:8080/"
        }
      },
      "execution_count": null,
      "outputs": [
        {
          "output_type": "stream",
          "name": "stdout",
          "text": [
            "0 1 2 3 4 5 6 7 8 9 "
          ]
        }
      ]
    },
    {
      "cell_type": "markdown",
      "source": [
        "4. 1부터 10까지 합산하는 코드작성"
      ],
      "metadata": {
        "id": "gwV-hBOT2Dp7"
      }
    },
    {
      "cell_type": "code",
      "source": [
        " x = 1\n",
        "total = 0\n",
        "while x <= 10:\n",
        "  total += x\n",
        "  #total = total + 1\n",
        "  #x = x + 1\n",
        "  x += 1\n",
        "print(total)"
      ],
      "metadata": {
        "colab": {
          "base_uri": "https://localhost:8080/"
        },
        "id": "vm1tW2Hk3JVu",
        "outputId": "83908ead-0be5-445b-ebab-d89c3e2a0d47"
      },
      "execution_count": null,
      "outputs": [
        {
          "output_type": "stream",
          "name": "stdout",
          "text": [
            "55\n"
          ]
        }
      ]
    },
    {
      "cell_type": "code",
      "source": [
        "X = 1\n",
        "while x <= 10:\n",
        "  print(x, end=' ')"
      ],
      "metadata": {
        "id": "sj4EXCz_3yYF"
      },
      "execution_count": null,
      "outputs": []
    },
    {
      "cell_type": "markdown",
      "source": [
        "5. 3-6-9 게임(3의 배수 판단): 3의 배수를 3으로 나누면 나머지가 0이 되므로(i mod 3)"
      ],
      "metadata": {
        "id": "NgeWxaUo4W2V"
      }
    },
    {
      "cell_type": "code",
      "source": [
        "for num in range(1, 21):\n",
        "  if num % 3 == 0:\n",
        "    print(\"박수\", end=' ')\n",
        "  else:\n",
        "    print(num, end=' ')"
      ],
      "metadata": {
        "colab": {
          "base_uri": "https://localhost:8080/"
        },
        "id": "yWWfXs884rFV",
        "outputId": "3318c1d9-ac69-4c09-f9c4-9129d5d4039a"
      },
      "execution_count": null,
      "outputs": [
        {
          "output_type": "stream",
          "name": "stdout",
          "text": [
            "1 2 박수 4 5 박수 7 8 박수 10 11 박수 13 14 박수 16 17 박수 19 20 "
          ]
        }
      ]
    },
    {
      "cell_type": "code",
      "source": [
        "num = 1\n",
        "while num <= 20:\n",
        "  if num % 3 == 0:\n",
        "    print(\"박수\", end=' ')\n",
        "  else:\n",
        "    print(num, end=' ')\n",
        "  num += 1"
      ],
      "metadata": {
        "colab": {
          "base_uri": "https://localhost:8080/"
        },
        "id": "5cO8lmH35VtV",
        "outputId": "e42260cf-59b1-4897-e6d4-a703d53d8594"
      },
      "execution_count": null,
      "outputs": [
        {
          "output_type": "stream",
          "name": "stdout",
          "text": [
            "1 2 박수 4 5 박수 7 8 박수 10 11 박수 13 14 박수 16 17 박수 19 20 "
          ]
        }
      ]
    },
    {
      "cell_type": "markdown",
      "source": [
        "6. 팩토리를 계산하는 코드 작성\n",
        " - 1! = 1,2!= 2(1)3!=(2)(1)=6"
      ],
      "metadata": {
        "id": "w-NzDf1AboB9"
      }
    },
    {
      "cell_type": "code",
      "source": [
        "i = 5\n",
        "factorial = 1\n",
        "while i >= 1:\n",
        "    factorial *= i\n",
        "    i -= 1\n",
        "print(factorial)"
      ],
      "metadata": {
        "colab": {
          "base_uri": "https://localhost:8080/"
        },
        "id": "yRP57coleR7j",
        "outputId": "8f17afe6-48fd-4f35-8de0-a93e2e1177b2"
      },
      "execution_count": 25,
      "outputs": [
        {
          "output_type": "stream",
          "name": "stdout",
          "text": [
            "120\n"
          ]
        }
      ]
    },
    {
      "cell_type": "code",
      "source": [
        "# 계산할 숫자를 입력합니다\n",
        "num = int(input(\"팩토리얼를 계산할 숫자를 입략하시오.: \"))\n",
        "\n",
        "# 초기값으로 1을 설정합니다\n",
        "factorial = 1\n",
        "\n",
        "# 팩토리얼 계산을 위한 빈복문인 while 입니다.\n",
        "while  num >= 1:                 # num값이 1보다 크거나 같을 때 하위 문장(코드)를 진행\n",
        "    factorial = factorial * num  # 현재 num값을 factorial값에 곱해줍니다\n",
        "    num -= 1                     # num값을 1씩 감소시킵니다\n",
        "\n",
        "print(f'계산 팩터리의 값은 {factorial} 입니다.')"
      ],
      "metadata": {
        "colab": {
          "base_uri": "https://localhost:8080/"
        },
        "id": "zeToMjvPczEC",
        "outputId": "f37eff87-46ac-4d63-dc43-e705d83622c4"
      },
      "execution_count": 26,
      "outputs": [
        {
          "output_type": "stream",
          "name": "stdout",
          "text": [
            "팩토리얼를 계산할 숫자를 입략하시오.: 5\n",
            "계산 팩터리의 값은 120 입니다.\n"
          ]
        }
      ]
    },
    {
      "cell_type": "markdown",
      "source": [
        "7. 구구단 출력해주는 코드 작성\n",
        " - 변수: dan\n",
        " - 반복문(1):for\n",
        " - 반복분(2): while"
      ],
      "metadata": {
        "id": "9t71QpY-fCyD"
      }
    },
    {
      "cell_type": "code",
      "source": [
        "# for문 상용\n",
        "dan = int(input(\"구구단에서 몇단을 출력할까요: \"))\n",
        "for i in range(1,9):\n",
        "      print(dan, \"x\", i, \"=\", dan *1)"
      ],
      "metadata": {
        "colab": {
          "base_uri": "https://localhost:8080/"
        },
        "id": "DKlM7xpdfZZb",
        "outputId": "07b9bf5d-2575-4657-9745-6e69532a2c07"
      },
      "execution_count": 9,
      "outputs": [
        {
          "output_type": "stream",
          "name": "stdout",
          "text": [
            "구구단에서 몇단을 출력할까요: 3\n",
            "3 x 1 = 3\n",
            "3 x 2 = 3\n",
            "3 x 3 = 3\n",
            "3 x 4 = 3\n",
            "3 x 5 = 3\n",
            "3 x 6 = 3\n",
            "3 x 7 = 3\n",
            "3 x 8 = 3\n"
          ]
        }
      ]
    },
    {
      "cell_type": "code",
      "source": [
        "# while문 사용\n",
        "dan = int(input(\"구구단을 몇단을 출력할래?: \"))\n",
        "i = 1\n",
        "while i <= 9:\n",
        "    print(dan, \"x\", i, \"=\", dan * i)\n",
        "    i += 1"
      ],
      "metadata": {
        "colab": {
          "base_uri": "https://localhost:8080/"
        },
        "id": "NjYq8Sh0f8St",
        "outputId": "6c9372dd-039b-4e74-e245-095b4b21ca2a"
      },
      "execution_count": 8,
      "outputs": [
        {
          "output_type": "stream",
          "name": "stdout",
          "text": [
            "구구단을 몇단을 출력할래?: 2\n",
            "2 x 1 = 2\n",
            "2 x 2 = 4\n",
            "2 x 3 = 6\n",
            "2 x 4 = 8\n",
            "2 x 5 = 10\n",
            "2 x 6 = 12\n",
            "2 x 7 = 14\n",
            "2 x 8 = 16\n",
            "2 x 9 = 18\n"
          ]
        }
      ]
    }
  ]
}